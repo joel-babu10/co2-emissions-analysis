{
 "cells": [
  {
   "cell_type": "markdown",
   "metadata": {},
   "source": [
    "# \ud83c\udf0d CO\u2082 Emissions Exploratory Data Analysis\n",
    "This notebook analyzes CO\u2082 emissions data from Our World in Data."
   ]
  },
  {
   "cell_type": "code",
   "execution_count": null,
   "metadata": {},
   "outputs": [],
   "source": [
    "import pandas as pd\n",
    "import matplotlib.pyplot as plt\n",
    "import seaborn as sns\n",
    "\n",
    "# Optional: seaborn style\n",
    "sns.set(style=\"whitegrid\")"
   ]
  },
  {
   "cell_type": "code",
   "execution_count": null,
   "metadata": {},
   "outputs": [],
   "source": [
    "# Load dataset\n",
    "df = pd.read_csv(\"owid-co2-data.csv\")\n",
    "\n",
    "# Display the first few rows\n",
    "df.head()"
   ]
  },
  {
   "cell_type": "code",
   "execution_count": null,
   "metadata": {},
   "outputs": [],
   "source": [
    "# Filter data for 2020\n",
    "df_2020 = df[df[\"year\"] == 2020]\n",
    "top10 = df_2020.sort_values(by=\"co2\", ascending=False).head(10)\n",
    "top10[[\"country\", \"co2\"]]"
   ]
  },
  {
   "cell_type": "code",
   "execution_count": null,
   "metadata": {},
   "outputs": [],
   "source": [
    "# Bar plot for top 10 CO\u2082 emitting countries\n",
    "plt.figure(figsize=(10, 6))\n",
    "sns.barplot(data=top10, x=\"co2\", y=\"country\", palette=\"Reds_r\")\n",
    "plt.title(\"Top 10 CO\u2082 Emitting Countries in 2020\")\n",
    "plt.xlabel(\"CO\u2082 Emissions (million tonnes)\")\n",
    "plt.ylabel(\"Country\")\n",
    "plt.tight_layout()\n",
    "plt.show()"
   ]
  },
  {
   "cell_type": "code",
   "execution_count": null,
   "metadata": {},
   "outputs": [],
   "source": [
    "# Trend comparison for India, China, USA (2000\u20132020)\n",
    "countries = [\"India\", \"China\", \"United States\"]\n",
    "df_trend = df[df[\"country\"].isin(countries) & (df[\"year\"] >= 2000)]\n",
    "\n",
    "plt.figure(figsize=(10, 6))\n",
    "sns.lineplot(data=df_trend, x=\"year\", y=\"co2\", hue=\"country\")\n",
    "plt.title(\"CO\u2082 Emissions (2000\u20132020)\")\n",
    "plt.ylabel(\"CO\u2082 Emissions (million tonnes)\")\n",
    "plt.xlabel(\"Year\")\n",
    "plt.tight_layout()\n",
    "plt.show()"
   ]
  },
  {
   "cell_type": "code",
   "execution_count": null,
   "metadata": {},
   "outputs": [],
   "source": [
    "# Correlation heatmap (optional bonus)\n",
    "df_corr = df[[\"co2\", \"gdp\", \"population\", \"energy_per_capita\"]].dropna()\n",
    "\n",
    "plt.figure(figsize=(8, 6))\n",
    "sns.heatmap(df_corr.corr(), annot=True, cmap=\"coolwarm\")\n",
    "plt.title(\"Correlation Between CO\u2082, GDP, Population, and Energy\")\n",
    "plt.show()"
   ]
  }
 ],
 "metadata": {
  "kernelspec": {
   "display_name": "Python 3",
   "language": "python",
   "name": "python3"
  },
  "language_info": {
   "name": "python",
   "version": "3.9"
  }
 },
 "nbformat": 4,
 "nbformat_minor": 2
}
